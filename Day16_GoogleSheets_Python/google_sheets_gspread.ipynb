{
 "cells": [
  {
   "cell_type": "code",
   "execution_count": null,
   "id": "1600c80b",
   "metadata": {},
   "outputs": [],
   "source": [
    "# 📊 Day 16: Google Sheets + Python (gspread)\n",
    "# Author: David Caleb Chaparro Orozco\n",
    "# Topic: Reading, Writing, and Managing Google Sheets Data with Python and gspread\n",
    "\n",
    "# Import necessary libraries\n",
    "import numpy as np\n",
    "import pandas as pd\n",
    "import matplotlib.pyplot as plt\n",
    "import seaborn as sns\n",
    "import os\n",
    "import gspread\n",
    "from oauth2client.service_account import ServiceAccountCredentials\n",
    "\n",
    "# Set style for plots\n",
    "sns.set(style=\"whitegrid\")\n",
    "plt.rcParams[\"figure.figsize\"] = (10, 6)\n",
    "\n",
    "# Create directories if they don't exist\n",
    "os.makedirs(\"outputs\", exist_ok=True)\n",
    "os.makedirs(\"data\", exist_ok=True)\n",
    "\n",
    "# Define Google Sheets API scope\n",
    "scope = [\"https://spreadsheets.google.com/feeds\",\n",
    "        \"https://www.googleapis.com/auth/drive\"]\n",
    "\n",
    "# Example: authenticate using service account (requires JSON credentials)\n",
    "# creds = ServiceAccountCredentials.from_json_keyfile_name(\"credentials.json\", scope)\n",
    "# client = gspread.authorize(creds)\n",
    "\n",
    "# Placeholder: load local dataset to demonstrate upload\n",
    "data = pd.read_csv(\"data/local_dataset.csv\")\n",
    "data.head()\n"
   ]
  }
 ],
 "metadata": {
  "kernelspec": {
   "display_name": "Python 3",
   "language": "python",
   "name": "python3"
  },
  "language_info": {
   "codemirror_mode": {
    "name": "ipython",
    "version": 3
   },
   "file_extension": ".py",
   "mimetype": "text/x-python",
   "name": "python",
   "nbconvert_exporter": "python",
   "pygments_lexer": "ipython3",
   "version": "3.12.0"
  }
 },
 "nbformat": 4,
 "nbformat_minor": 5
}
